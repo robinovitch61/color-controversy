{
 "cells": [
  {
   "cell_type": "markdown",
   "metadata": {},
   "source": [
    "## Plotting + Choosing Colors"
   ]
  },
  {
   "cell_type": "markdown",
   "metadata": {},
   "source": [
    "### Setup:\n",
    "* In python 3.8.5 virtualenv:\n",
    "`pip install matplotlib numpy colormath colormap easydev jupyterlab jupyter`\n",
    "* Install and setup tk\n",
    "  * This worked for me on Catalina with pyenv: https://github.com/pyenv/pyenv/issues/1375#issuecomment-673144925"
   ]
  },
  {
   "cell_type": "code",
   "execution_count": 2,
   "metadata": {},
   "outputs": [],
   "source": [
    "%matplotlib tk\n",
    "\n",
    "import numpy as np\n",
    "import matplotlib.pyplot as plt\n",
    "from colormap import rgb2hex, hex2rgb\n",
    "\n",
    "RAINBOW = {\n",
    "    \"R\": \"red\",\n",
    "    \"O\": \"orange\",\n",
    "    \"Y\": \"yellow\",\n",
    "    \"G\": \"green\",\n",
    "    \"B\": \"blue\",\n",
    "    \"P\": \"pink\", # indigo is stupid\n",
    "    \"V\": \"purple\"\n",
    "}\n",
    "\n",
    "FILEPATH = \"./output_colors.txt\""
   ]
  },
  {
   "cell_type": "code",
   "execution_count": 3,
   "metadata": {},
   "outputs": [],
   "source": [
    "def plot_clickable(data, c1, c2, to_write):\n",
    "    global clicks\n",
    "    clicks = 0\n",
    "    file = open(FILEPATH, \"a+\")\n",
    "    comp = f\"{RAINBOW[c1].title()}/{RAINBOW[c2].title()}\"\n",
    "\n",
    "    fig, ax = plt.subplots(figsize=(24, 14))\n",
    "\n",
    "    def onclick(event):\n",
    "        global clicks # bad in general, fine here\n",
    "        if clicks == 0:\n",
    "            file.write(f\"\\n-- {comp}\\n\")\n",
    "        clicks += 1\n",
    "        print(to_write(event, RAINBOW[c1], RAINBOW[c2]))\n",
    "        file.write(to_write(event, RAINBOW[c1], RAINBOW[c2]) + '\\n')\n",
    "        ax.set_title(f\"{comp} - colors clicked: {clicks}\", fontsize=18)\n",
    "        plt.show() # updates title, slow but w/e\n",
    "        file.flush()\n",
    "\n",
    "    ax.imshow(data)\n",
    "    ax.set_title(f\"{comp} - colors clicked: {clicks}\", fontsize=18)\n",
    "\n",
    "    fig.canvas.mpl_connect('button_press_event', onclick)\n",
    "    plt.show()"
   ]
  },
  {
   "cell_type": "code",
   "execution_count": 4,
   "metadata": {},
   "outputs": [],
   "source": [
    "ASCENDING = range(0, 256)\n",
    "DESCENDING = range(255, -1, -1)\n",
    "ZEROS = np.zeros((256, 256))"
   ]
  },
  {
   "cell_type": "code",
   "execution_count": 5,
   "metadata": {},
   "outputs": [],
   "source": [
    "# TOP LEFT QUADRANT:\n",
    "# x axis: max red to min red\n",
    "# y axis: min green to max green\n",
    "# 0 blue"
   ]
  },
  {
   "cell_type": "code",
   "execution_count": 7,
   "metadata": {
    "scrolled": false
   },
   "outputs": [
    {
     "name": "stdout",
     "output_type": "stream",
     "text": [
      "INSERT INTO color (hex, first_option, second_option) VALUES ('#C02A00', 'red', 'orange') RETURNING hex;\n",
      "INSERT INTO color (hex, first_option, second_option) VALUES ('#C33200', 'red', 'orange') RETURNING hex;\n",
      "INSERT INTO color (hex, first_option, second_option) VALUES ('#CD2900', 'red', 'orange') RETURNING hex;\n",
      "INSERT INTO color (hex, first_option, second_option) VALUES ('#D13700', 'red', 'orange') RETURNING hex;\n",
      "INSERT INTO color (hex, first_option, second_option) VALUES ('#D53200', 'red', 'orange') RETURNING hex;\n",
      "INSERT INTO color (hex, first_option, second_option) VALUES ('#DD2B00', 'red', 'orange') RETURNING hex;\n",
      "INSERT INTO color (hex, first_option, second_option) VALUES ('#EC2F00', 'red', 'orange') RETURNING hex;\n",
      "INSERT INTO color (hex, first_option, second_option) VALUES ('#F03E00', 'red', 'orange') RETURNING hex;\n",
      "INSERT INTO color (hex, first_option, second_option) VALUES ('#D94400', 'red', 'orange') RETURNING hex;\n",
      "INSERT INTO color (hex, first_option, second_option) VALUES ('#F55100', 'red', 'orange') RETURNING hex;\n"
     ]
    }
   ],
   "source": [
    "red, green = np.empty((256, 256)), np.empty((256, 256))\n",
    "for x_idx, red_val in enumerate(DESCENDING):\n",
    "    for y_idx, green_val in enumerate(DESCENDING): # reverse cuz matplotlib\n",
    "        red[y_idx, x_idx] = red_val\n",
    "        green[y_idx, x_idx] = green_val\n",
    "data = (np.dstack([red, green, ZEROS]) / 255)\n",
    "\n",
    "clicks = 0 # must declare before making global later\n",
    "\n",
    "def to_write(event, c1, c2):\n",
    "    red = int(255 - event.xdata)\n",
    "    green = int(255 - event.ydata)\n",
    "    blue = 0\n",
    "    return f\"INSERT INTO color (hex, first_option, second_option) VALUES ('{rgb2hex(red, green, blue)}', '{c1}', '{c2}') RETURNING hex;\"\n",
    "\n",
    "plot_clickable(data, 'R', 'O', to_write)"
   ]
  },
  {
   "cell_type": "code",
   "execution_count": 8,
   "metadata": {},
   "outputs": [],
   "source": [
    "# TOP RIGHT QUADRANT:\n",
    "# x axis: min blue to max blue\n",
    "# y axis: min green to max green\n",
    "# 0 red"
   ]
  },
  {
   "cell_type": "code",
   "execution_count": 10,
   "metadata": {
    "scrolled": true
   },
   "outputs": [
    {
     "name": "stdout",
     "output_type": "stream",
     "text": [
      "INSERT INTO color (hex, first_option, second_option) VALUES ('#009368', 'green', 'blue') RETURNING hex;\n",
      "INSERT INTO color (hex, first_option, second_option) VALUES ('#009070', 'green', 'blue') RETURNING hex;\n",
      "INSERT INTO color (hex, first_option, second_option) VALUES ('#008E78', 'green', 'blue') RETURNING hex;\n",
      "INSERT INTO color (hex, first_option, second_option) VALUES ('#008B81', 'green', 'blue') RETURNING hex;\n",
      "INSERT INTO color (hex, first_option, second_option) VALUES ('#008787', 'green', 'blue') RETURNING hex;\n",
      "INSERT INTO color (hex, first_option, second_option) VALUES ('#00868E', 'green', 'blue') RETURNING hex;\n",
      "INSERT INTO color (hex, first_option, second_option) VALUES ('#008395', 'green', 'blue') RETURNING hex;\n",
      "INSERT INTO color (hex, first_option, second_option) VALUES ('#008D9F', 'green', 'blue') RETURNING hex;\n",
      "INSERT INTO color (hex, first_option, second_option) VALUES ('#00959A', 'green', 'blue') RETURNING hex;\n",
      "INSERT INTO color (hex, first_option, second_option) VALUES ('#009A95', 'green', 'blue') RETURNING hex;\n",
      "INSERT INTO color (hex, first_option, second_option) VALUES ('#009E93', 'green', 'blue') RETURNING hex;\n",
      "INSERT INTO color (hex, first_option, second_option) VALUES ('#00A38D', 'green', 'blue') RETURNING hex;\n",
      "INSERT INTO color (hex, first_option, second_option) VALUES ('#00A887', 'green', 'blue') RETURNING hex;\n",
      "INSERT INTO color (hex, first_option, second_option) VALUES ('#00AE83', 'green', 'blue') RETURNING hex;\n",
      "INSERT INTO color (hex, first_option, second_option) VALUES ('#00B47D', 'green', 'blue') RETURNING hex;\n",
      "INSERT INTO color (hex, first_option, second_option) VALUES ('#00B779', 'green', 'blue') RETURNING hex;\n",
      "INSERT INTO color (hex, first_option, second_option) VALUES ('#00C380', 'green', 'blue') RETURNING hex;\n",
      "INSERT INTO color (hex, first_option, second_option) VALUES ('#00C18D', 'green', 'blue') RETURNING hex;\n",
      "INSERT INTO color (hex, first_option, second_option) VALUES ('#00C095', 'green', 'blue') RETURNING hex;\n",
      "INSERT INTO color (hex, first_option, second_option) VALUES ('#00BE9E', 'green', 'blue') RETURNING hex;\n",
      "INSERT INTO color (hex, first_option, second_option) VALUES ('#00BCA2', 'green', 'blue') RETURNING hex;\n",
      "INSERT INTO color (hex, first_option, second_option) VALUES ('#00BAA7', 'green', 'blue') RETURNING hex;\n",
      "INSERT INTO color (hex, first_option, second_option) VALUES ('#00B8AF', 'green', 'blue') RETURNING hex;\n",
      "INSERT INTO color (hex, first_option, second_option) VALUES ('#00B3B8', 'green', 'blue') RETURNING hex;\n",
      "INSERT INTO color (hex, first_option, second_option) VALUES ('#00C3BD', 'green', 'blue') RETURNING hex;\n",
      "INSERT INTO color (hex, first_option, second_option) VALUES ('#00C9B8', 'green', 'blue') RETURNING hex;\n",
      "INSERT INTO color (hex, first_option, second_option) VALUES ('#00D0B1', 'green', 'blue') RETURNING hex;\n",
      "INSERT INTO color (hex, first_option, second_option) VALUES ('#00D6A9', 'green', 'blue') RETURNING hex;\n",
      "INSERT INTO color (hex, first_option, second_option) VALUES ('#00DDA4', 'green', 'blue') RETURNING hex;\n",
      "INSERT INTO color (hex, first_option, second_option) VALUES ('#00E1A0', 'green', 'blue') RETURNING hex;\n",
      "INSERT INTO color (hex, first_option, second_option) VALUES ('#00E89A', 'green', 'blue') RETURNING hex;\n",
      "INSERT INTO color (hex, first_option, second_option) VALUES ('#00F39F', 'green', 'blue') RETURNING hex;\n",
      "INSERT INTO color (hex, first_option, second_option) VALUES ('#00F1A7', 'green', 'blue') RETURNING hex;\n",
      "INSERT INTO color (hex, first_option, second_option) VALUES ('#00F0AF', 'green', 'blue') RETURNING hex;\n",
      "INSERT INTO color (hex, first_option, second_option) VALUES ('#00EEB9', 'green', 'blue') RETURNING hex;\n",
      "INSERT INTO color (hex, first_option, second_option) VALUES ('#00EEC0', 'green', 'blue') RETURNING hex;\n",
      "INSERT INTO color (hex, first_option, second_option) VALUES ('#00EEC6', 'green', 'blue') RETURNING hex;\n",
      "INSERT INTO color (hex, first_option, second_option) VALUES ('#00FBC6', 'green', 'blue') RETURNING hex;\n",
      "INSERT INTO color (hex, first_option, second_option) VALUES ('#00FCBB', 'green', 'blue') RETURNING hex;\n",
      "INSERT INTO color (hex, first_option, second_option) VALUES ('#00FDB1', 'green', 'blue') RETURNING hex;\n",
      "INSERT INTO color (hex, first_option, second_option) VALUES ('#00FDA8', 'green', 'blue') RETURNING hex;\n"
     ]
    }
   ],
   "source": [
    "blue, green = np.empty((256, 256)), np.empty((256, 256))\n",
    "for x_idx, blue_val in enumerate(ASCENDING):\n",
    "    for y_idx, green_val in enumerate(DESCENDING): # reverse cuz matplotlib\n",
    "        blue[y_idx, x_idx] = blue_val\n",
    "        green[y_idx, x_idx] = green_val\n",
    "data = (np.dstack([ZEROS, green, blue]) / 255)\n",
    "\n",
    "clicks = 0 # must declare before making global later\n",
    "\n",
    "def to_write(event, c1, c2):\n",
    "    red = 0\n",
    "    green = int(255 - event.ydata)\n",
    "    blue = int(event.xdata)\n",
    "    return f\"INSERT INTO color (hex, first_option, second_option) VALUES ('{rgb2hex(red, green, blue)}', '{c1}', '{c2}') RETURNING hex;\"\n",
    "\n",
    "plot_clickable(data, 'G', 'B', to_write)"
   ]
  },
  {
   "cell_type": "code",
   "execution_count": 13,
   "metadata": {},
   "outputs": [],
   "source": [
    "# BOTTOM RIGHT QUADRANT:\n",
    "# x axis: min blue to max blue\n",
    "# y axis: max red to min red\n",
    "# 0 green"
   ]
  },
  {
   "cell_type": "code",
   "execution_count": 16,
   "metadata": {
    "scrolled": true
   },
   "outputs": [
    {
     "name": "stdout",
     "output_type": "stream",
     "text": [
      "INSERT INTO color (hex, first_option, second_option) VALUES ('#5400FD', 'blue', 'purple') RETURNING hex;\n",
      "INSERT INTO color (hex, first_option, second_option) VALUES ('#5D00FD', 'blue', 'purple') RETURNING hex;\n",
      "INSERT INTO color (hex, first_option, second_option) VALUES ('#6700FA', 'blue', 'purple') RETURNING hex;\n",
      "INSERT INTO color (hex, first_option, second_option) VALUES ('#6300EC', 'blue', 'purple') RETURNING hex;\n",
      "INSERT INTO color (hex, first_option, second_option) VALUES ('#5A00EB', 'blue', 'purple') RETURNING hex;\n",
      "INSERT INTO color (hex, first_option, second_option) VALUES ('#4D00E7', 'blue', 'purple') RETURNING hex;\n",
      "INSERT INTO color (hex, first_option, second_option) VALUES ('#4600D9', 'blue', 'purple') RETURNING hex;\n",
      "INSERT INTO color (hex, first_option, second_option) VALUES ('#4C00D5', 'blue', 'purple') RETURNING hex;\n",
      "INSERT INTO color (hex, first_option, second_option) VALUES ('#5600D5', 'blue', 'purple') RETURNING hex;\n",
      "INSERT INTO color (hex, first_option, second_option) VALUES ('#5000C7', 'blue', 'purple') RETURNING hex;\n",
      "INSERT INTO color (hex, first_option, second_option) VALUES ('#4800C4', 'blue', 'purple') RETURNING hex;\n",
      "INSERT INTO color (hex, first_option, second_option) VALUES ('#3900C4', 'blue', 'purple') RETURNING hex;\n",
      "INSERT INTO color (hex, first_option, second_option) VALUES ('#3500B8', 'blue', 'purple') RETURNING hex;\n",
      "INSERT INTO color (hex, first_option, second_option) VALUES ('#3B00B2', 'blue', 'purple') RETURNING hex;\n",
      "INSERT INTO color (hex, first_option, second_option) VALUES ('#4C00AE', 'blue', 'purple') RETURNING hex;\n",
      "INSERT INTO color (hex, first_option, second_option) VALUES ('#4900A0', 'blue', 'purple') RETURNING hex;\n",
      "INSERT INTO color (hex, first_option, second_option) VALUES ('#3300A4', 'blue', 'purple') RETURNING hex;\n"
     ]
    }
   ],
   "source": [
    "blue, red = np.empty((256, 256)), np.empty((256, 256))\n",
    "for x_idx, blue_val in enumerate(ASCENDING):\n",
    "    for y_idx, red_val in enumerate(ASCENDING): # reverse cuz matplotlib\n",
    "        blue[y_idx, x_idx] = blue_val\n",
    "        red[y_idx, x_idx] = red_val\n",
    "data = (np.dstack([red, ZEROS, blue]) / 255)\n",
    "\n",
    "clicks = 0 # must declare before making global later\n",
    "\n",
    "def to_write(event, c1, c2):\n",
    "    red = int(event.ydata)\n",
    "    green = 0\n",
    "    blue = int(event.xdata)\n",
    "    return f\"INSERT INTO color (hex, first_option, second_option) VALUES ('{rgb2hex(red, green, blue)}', '{c1}', '{c2}') RETURNING hex;\"\n",
    "\n",
    "plot_clickable(data, 'B', 'V', to_write)"
   ]
  },
  {
   "cell_type": "code",
   "execution_count": null,
   "metadata": {},
   "outputs": [],
   "source": []
  }
 ],
 "metadata": {
  "kernelspec": {
   "display_name": "Python 3",
   "language": "python",
   "name": "python3"
  },
  "language_info": {
   "codemirror_mode": {
    "name": "ipython",
    "version": 3
   },
   "file_extension": ".py",
   "mimetype": "text/x-python",
   "name": "python",
   "nbconvert_exporter": "python",
   "pygments_lexer": "ipython3",
   "version": "3.8.5"
  }
 },
 "nbformat": 4,
 "nbformat_minor": 4
}
